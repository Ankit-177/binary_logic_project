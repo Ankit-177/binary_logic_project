{
 "cells": [
  {
   "cell_type": "code",
   "execution_count": 16,
   "metadata": {},
   "outputs": [],
   "source": [
    "import numpy as np\n",
    "\n",
    "binaryInput1 = '1010011'\n",
    "binaryInput2 = '11010'\n",
    "\n",
    "def process_inputs(input1, input2):\n",
    "    if len(input1) > len(input2):\n",
    "        for i in range(len(input1) - len(input2) + 1):\n",
    "            input2 = \"0\" + input2\n",
    "        input1 = \"0\" + input1\n",
    "    if len(input2) > len(input1):\n",
    "        for i in range(len(input2) - len(input1)+ 1):\n",
    "            input1 = \"0\" + input1\n",
    "        input2 = \"0\" + input2\n",
    "        \n",
    "    arr1 = np.fromstring(input1, np.int8) - 48\n",
    "    arr2 = np.fromstring(input2, np.int8) - 48\n",
    "        \n",
    "    return arr1, arr2"
   ]
  },
  {
   "cell_type": "code",
   "execution_count": 17,
   "metadata": {},
   "outputs": [
    {
     "name": "stdout",
     "output_type": "stream",
     "text": [
      "[0 1 1 0 1 1 0 1]\n"
     ]
    },
    {
     "name": "stderr",
     "output_type": "stream",
     "text": [
      "/var/folders/mh/dn_3qv0s6dndm54j9k1xw61h0000gn/T/ipykernel_2079/2973775794.py:16: DeprecationWarning: The binary mode of fromstring is deprecated, as it behaves surprisingly on unicode inputs. Use frombuffer instead\n",
      "  arr1 = np.fromstring(input1, np.int8) - 48\n",
      "/var/folders/mh/dn_3qv0s6dndm54j9k1xw61h0000gn/T/ipykernel_2079/2973775794.py:17: DeprecationWarning: The binary mode of fromstring is deprecated, as it behaves surprisingly on unicode inputs. Use frombuffer instead\n",
      "  arr2 = np.fromstring(input2, np.int8) - 48\n"
     ]
    }
   ],
   "source": [
    "#Adding\n",
    "def add_binary(binaryInput1, binaryInput2):\n",
    "    result = np.zeros(len(binaryInput1), dtype=int)\n",
    "    result_overflow = np.zeros(len(binaryInput1), dtype=int)\n",
    "    for i in range(len(binaryInput1)-1,0,-1):\n",
    "        if binaryInput1[i] == 1 and binaryInput2[i] == 1:\n",
    "            result_overflow[i-1] = 1\n",
    "        if binaryInput1[i] == 0 and binaryInput2[i] == 1:\n",
    "            result[i] = 1\n",
    "        if binaryInput1[i] == 1 and binaryInput2[i] == 0:\n",
    "            result[i] = 1\n",
    "    \n",
    "    if np.isin(1,result_overflow) == True:\n",
    "        return add_binary(result, result_overflow)\n",
    "    else:\n",
    "        return result\n",
    "\n",
    "\n",
    "input1, input2 = process_inputs(binaryInput1, binaryInput2)\n",
    "print(add_binary(input1, input2))"
   ]
  },
  {
   "cell_type": "code",
   "execution_count": 18,
   "metadata": {},
   "outputs": [
    {
     "name": "stdout",
     "output_type": "stream",
     "text": [
      "[0 0 1 1 1 0 0 1]\n"
     ]
    },
    {
     "name": "stderr",
     "output_type": "stream",
     "text": [
      "/var/folders/mh/dn_3qv0s6dndm54j9k1xw61h0000gn/T/ipykernel_2079/2973775794.py:16: DeprecationWarning: The binary mode of fromstring is deprecated, as it behaves surprisingly on unicode inputs. Use frombuffer instead\n",
      "  arr1 = np.fromstring(input1, np.int8) - 48\n",
      "/var/folders/mh/dn_3qv0s6dndm54j9k1xw61h0000gn/T/ipykernel_2079/2973775794.py:17: DeprecationWarning: The binary mode of fromstring is deprecated, as it behaves surprisingly on unicode inputs. Use frombuffer instead\n",
      "  arr2 = np.fromstring(input2, np.int8) - 48\n"
     ]
    }
   ],
   "source": [
    "#Subtracting\n",
    "\n",
    "binaryInput1 = '1010011'\n",
    "binaryInput2 = '11010'\n",
    "\n",
    "def subtract_binary(binaryInput1, binaryInput2):\n",
    "    \n",
    "    result = np.zeros(len(binaryInput1),dtype=int)\n",
    "    num1 = int(\"\".join(map(str, binaryInput1)))\n",
    "    num2 = int(\"\".join(map(str, binaryInput2)))\n",
    "    \n",
    "    for i in range(len(binaryInput1)-1,0,-1):\n",
    "        if binaryInput1[i] == 1 and binaryInput2[i] == 1:\n",
    "            result[i] = 0\n",
    "        if num1 > num2:\n",
    "            if binaryInput1[i] == 1 and binaryInput2[i] == 0:\n",
    "                result[i] = 1\n",
    "            if binaryInput1[i] == 0 and binaryInput2[i] == 1:\n",
    "                result[i] = 1\n",
    "                is1 = False\n",
    "                index = i - 1\n",
    "                while is1 == False:\n",
    "                    if binaryInput1[index] == 1:\n",
    "                        binaryInput1[index] = 0\n",
    "                        is1 = True\n",
    "                    else:\n",
    "                        binaryInput1[index] = 1\n",
    "                        index -= 1\n",
    "        if num1 < num2:\n",
    "            if binaryInput1[i] == 0 and binaryInput2[i] == 1:\n",
    "                result[i] = 1\n",
    "            if binaryInput1[i] == 1 and binaryInput2[i] == 0:\n",
    "                result[i] = 1\n",
    "                is1 = False\n",
    "                index = i - 1\n",
    "                while is1 == False:\n",
    "                    if binaryInput2[index] == 1:\n",
    "                        binaryInput2[index] = 0\n",
    "                        is1 = True\n",
    "                    else:\n",
    "                        binaryInput2[index] = 1\n",
    "                        index -= 1\n",
    "    if num1 > num2:\n",
    "        return np.array2string(result)\n",
    "    if num1 < num2:\n",
    "        return '-' + np.array2string(result)\n",
    "    \n",
    "input1, input2 = process_inputs(binaryInput1, binaryInput2)\n",
    "print(subtract_binary(input1, input2))"
   ]
  },
  {
   "cell_type": "code",
   "execution_count": 23,
   "metadata": {},
   "outputs": [
    {
     "name": "stdout",
     "output_type": "stream",
     "text": [
      "[0 1 0 0 0 0 0 1 0 1]\n"
     ]
    },
    {
     "name": "stderr",
     "output_type": "stream",
     "text": [
      "/var/folders/mh/dn_3qv0s6dndm54j9k1xw61h0000gn/T/ipykernel_2079/2973775794.py:16: DeprecationWarning: The binary mode of fromstring is deprecated, as it behaves surprisingly on unicode inputs. Use frombuffer instead\n",
      "  arr1 = np.fromstring(input1, np.int8) - 48\n",
      "/var/folders/mh/dn_3qv0s6dndm54j9k1xw61h0000gn/T/ipykernel_2079/2973775794.py:17: DeprecationWarning: The binary mode of fromstring is deprecated, as it behaves surprisingly on unicode inputs. Use frombuffer instead\n",
      "  arr2 = np.fromstring(input2, np.int8) - 48\n"
     ]
    }
   ],
   "source": [
    "#Multiplication\n",
    "\n",
    "binaryInput1 = '11101'\n",
    "binaryInput2 = '1001'\n",
    "\n",
    "def multiply_binary(binaryInput1, binaryInput2):\n",
    "    result = np.zeros(0,dtype=float)\n",
    "    \n",
    "    for i in range(len(binaryInput1)-1,0,-1):\n",
    "        if binaryInput1[i] == 1:\n",
    "            inst_sum = np.append(binaryInput2, np.zeros(len(binaryInput1)-i-1,dtype=int))\n",
    "            result_format = np.insert(result, 0, np.zeros(len(inst_sum)-len(result),dtype=int))\n",
    "            result = add_binary(result_format, inst_sum)\n",
    "    \n",
    "    return result\n",
    "\n",
    "input1, input2 = process_inputs(binaryInput1, binaryInput2)\n",
    "print(multiply_binary(input1, input2))"
   ]
  },
  {
   "cell_type": "code",
   "execution_count": 25,
   "metadata": {},
   "outputs": [
    {
     "name": "stdout",
     "output_type": "stream",
     "text": [
      "[0, 1, 1, 1, 0, 1]\n",
      "None\n"
     ]
    },
    {
     "name": "stderr",
     "output_type": "stream",
     "text": [
      "/var/folders/mh/dn_3qv0s6dndm54j9k1xw61h0000gn/T/ipykernel_2079/2973775794.py:16: DeprecationWarning: The binary mode of fromstring is deprecated, as it behaves surprisingly on unicode inputs. Use frombuffer instead\n",
      "  arr1 = np.fromstring(input1, np.int8) - 48\n",
      "/var/folders/mh/dn_3qv0s6dndm54j9k1xw61h0000gn/T/ipykernel_2079/2973775794.py:17: DeprecationWarning: The binary mode of fromstring is deprecated, as it behaves surprisingly on unicode inputs. Use frombuffer instead\n",
      "  arr2 = np.fromstring(input2, np.int8) - 48\n"
     ]
    }
   ],
   "source": [
    "#Division\n",
    "\n",
    "binaryInput1 = '100110101'\n",
    "binaryInput2 = '110'\n",
    "\n",
    "def divide_binary(binaryInput1, binaryInput2):\n",
    "    prov_div = []\n",
    "    result = []\n",
    "    \n",
    "    for i in range(len(binaryInput1)):\n",
    "        prov_div.append(binaryInput1[i])\n",
    "    if int(\"\".join(map(str, prov_div))) > int(\"\".join(map(str, binaryInput2))):\n",
    "        \n",
    "    else:\n",
    "        result.append(0)\n",
    "    print(prov_div)\n",
    "    \n",
    "input1, input2 = process_inputs(binaryInput1, binaryInput2)\n",
    "print(divide_binary(input1, input2))"
   ]
  }
 ],
 "metadata": {
  "kernelspec": {
   "display_name": "Python 3",
   "language": "python",
   "name": "python3"
  },
  "language_info": {
   "codemirror_mode": {
    "name": "ipython",
    "version": 3
   },
   "file_extension": ".py",
   "mimetype": "text/x-python",
   "name": "python",
   "nbconvert_exporter": "python",
   "pygments_lexer": "ipython3",
   "version": "3.9.12"
  }
 },
 "nbformat": 4,
 "nbformat_minor": 2
}
