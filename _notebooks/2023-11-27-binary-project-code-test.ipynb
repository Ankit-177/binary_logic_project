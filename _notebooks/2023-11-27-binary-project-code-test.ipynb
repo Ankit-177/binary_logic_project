{
 "cells": [
  {
   "cell_type": "code",
   "execution_count": 37,
   "metadata": {},
   "outputs": [
    {
     "name": "stdout",
     "output_type": "stream",
     "text": [
      "[0 1 0 1 0 0 1 1]\n",
      "[0 0 0 1 1 0 1 0]\n",
      "7\n",
      "6\n",
      "5\n",
      "4\n",
      "3\n",
      "2\n",
      "1\n",
      "[0 0 1 0 0 1 0 0]\n",
      "[0 1 0 0 1 0 0 1]\n",
      "[0 1 0 0 1 0 0 1]\n",
      "[0 0 1 0 0 1 0 0]\n",
      "7\n",
      "6\n",
      "5\n",
      "4\n",
      "3\n",
      "2\n",
      "1\n",
      "[0 0 0 0 0 0 0 0]\n",
      "[0 1 1 0 1 1 0 1]\n",
      "[0 1 1 0 1 1 0 1]\n"
     ]
    },
    {
     "name": "stderr",
     "output_type": "stream",
     "text": [
      "/var/folders/mh/dn_3qv0s6dndm54j9k1xw61h0000gn/T/ipykernel_64293/3373685737.py:16: DeprecationWarning: The binary mode of fromstring is deprecated, as it behaves surprisingly on unicode inputs. Use frombuffer instead\n",
      "  arr1 = np.fromstring(input1, np.int8) - 48\n",
      "/var/folders/mh/dn_3qv0s6dndm54j9k1xw61h0000gn/T/ipykernel_64293/3373685737.py:17: DeprecationWarning: The binary mode of fromstring is deprecated, as it behaves surprisingly on unicode inputs. Use frombuffer instead\n",
      "  arr2 = np.fromstring(input2, np.int8) - 48\n"
     ]
    }
   ],
   "source": [
    "import numpy as np\n",
    "\n",
    "binaryInput1 = '1010011'\n",
    "binaryInput2 = '11010'\n",
    "\n",
    "def process_inputs(input1, input2):\n",
    "    if len(input1) > len(input2):\n",
    "        for i in range(len(input1) - len(input2) + 1):\n",
    "            input2 = \"0\" + input2\n",
    "        input1 = \"0\" + input1\n",
    "    if len(input2) > len(input1):\n",
    "        for i in range(len(input2) - len(input1)+ 1):\n",
    "            input1 = \"0\" + input1\n",
    "        input2 = \"0\" + input2\n",
    "        \n",
    "    arr1 = np.fromstring(input1, np.int8) - 48\n",
    "    arr2 = np.fromstring(input2, np.int8) - 48\n",
    "        \n",
    "    return arr1, arr2\n",
    "\n",
    "#Adding\n",
    "def add_binary(binaryInput1, binaryInput2):\n",
    "    result = np.zeros(len(binaryInput1), dtype=int)\n",
    "    result_overflow = np.zeros(len(binaryInput1), dtype=int)\n",
    "    for i in range(len(binaryInput1)-1,0,-1):\n",
    "        print(i)\n",
    "        if binaryInput1[i] == 1 and binaryInput2[i] == 1:\n",
    "            result_overflow[i-1] = 1\n",
    "        if binaryInput1[i] == 0 and binaryInput2[i] == 1:\n",
    "            result[i] = 1\n",
    "        if binaryInput1[i] == 1 and binaryInput2[i] == 0:\n",
    "            result[i] = 1\n",
    "    \n",
    "    if np.isin(1,result_overflow) == True:\n",
    "        result_f = add_binary(result, result_overflow)\n",
    "    else:\n",
    "        result_f = result\n",
    "    \n",
    "    return result_f\n",
    "\n",
    "\n",
    "input1, input2 = process_inputs(binaryInput1, binaryInput2)\n",
    "print(add_binary(input1, input2))"
   ]
  },
  {
   "cell_type": "code",
   "execution_count": null,
   "metadata": {},
   "outputs": [],
   "source": [
    "\n",
    "#Subtracting\n",
    "def subtract_binary(binaryInput1, binaryInput2):\n",
    "    result = np.ones(len(binaryInput1))\n",
    "    for i in range(len(binaryInput1)-1,0,-1):\n",
    "        if binaryInput1[i] == '1' and binaryInput2[i] == '1':\n",
    "            result[i] = '0'\n",
    "        if binaryInput1[i] == '0' and binaryInput2[i] == '0':\n",
    "            result[i] = '0'\n",
    "        if binaryInput1 > binaryInput2:\n",
    "            if binaryInput1[i] == '1' and binaryInput2[i] == '0':\n",
    "                result[i] = '1'\n",
    "            # 0 - 1 -> result digit set to 1, subtract 1 from above place\n",
    "        if binaryInput1 < binaryInput2:\n",
    "            if binaryInput1[i] == '0' and binaryInput2[i] == '1':\n",
    "                result[i] = '1'\n",
    "            # 0 - 1 -> result digit set to 1, subtract 1 from above place\n",
    "    if binaryInput1 > binaryInput2:\n",
    "        result = np.array2string(result)\n",
    "    if binaryInput1 < binaryInput2:\n",
    "        result = '-' + np.array2string(result)\n",
    "    \n",
    "#Multiplication\n",
    "\n",
    "#Division"
   ]
  }
 ],
 "metadata": {
  "kernelspec": {
   "display_name": "Python 3",
   "language": "python",
   "name": "python3"
  },
  "language_info": {
   "codemirror_mode": {
    "name": "ipython",
    "version": 3
   },
   "file_extension": ".py",
   "mimetype": "text/x-python",
   "name": "python",
   "nbconvert_exporter": "python",
   "pygments_lexer": "ipython3",
   "version": "3.9.12"
  }
 },
 "nbformat": 4,
 "nbformat_minor": 2
}
