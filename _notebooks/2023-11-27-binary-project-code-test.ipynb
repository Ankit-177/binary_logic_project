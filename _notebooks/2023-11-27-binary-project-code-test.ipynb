{
 "cells": [
  {
   "cell_type": "code",
   "execution_count": 6,
   "metadata": {},
   "outputs": [],
   "source": [
    "import numpy as np\n",
    "\n",
    "binaryInput1 = '1010011'\n",
    "binaryInput2 = '11010'\n",
    "\n",
    "if len(binaryInput1) > len(binaryInput2):\n",
    "    for i in range(len(binaryInput1) - len(binaryInput2)):\n",
    "        binaryInput2 = \"0\" + binaryInput2\n",
    "if len(binaryInput2) > len(binaryInput1):\n",
    "    for i in range(len(binaryInput2) - len(binaryInput1)):\n",
    "        binaryInput1 = \"0\" + binaryInput1\n",
    "result = np.zeros(len(binaryInput1))\n",
    "\n",
    "#Adding\n",
    "for i in range(len(binaryInput1)-1,0,-1):\n",
    "    if binaryInput1[i] == 1 and binaryInput2[i] == 1:\n",
    "        result[i] = '0'\n",
    "        if binaryInput1[i-1] == 0:\n",
    "            binaryInput1[i-1] = 1\n",
    "        elif binaryInput2[i-1] == 0:\n",
    "            binaryInput1[i-1] = 1\n",
    "        elif binaryInput1[i-1] == 1 and binaryInput2[i-1] == 1:\n",
    "            #???\n",
    "            binaryInput1[i-1]\n",
    "    if binaryInput1[i] == 0 and binaryInput2[i] == 0:\n",
    "        result[i] = '0'\n",
    "    if binaryInput1[i] == 1 and binaryInput2[i] == 0:\n",
    "        result[i] = '1'\n",
    "result = np.array2string(result)\n",
    "\n",
    "#Subtracting\n",
    "for i in range(len(binaryInput1)-1,0,-1):\n",
    "    if binaryInput1[i] == 1 and binaryInput2[i] == 1:\n",
    "        result[i] = '0'\n",
    "    if binaryInput1[i] == 0 and binaryInput2[i] == 0:\n",
    "        result[i] = '0'\n",
    "    if binaryInput1 > binaryInput2:\n",
    "        if binaryInput1[i] == 1 and binaryInput2[i] == 0:\n",
    "            result[i] = '1'\n",
    "        # 0 - 1 -> result digit set to 1, subtract 1 from above place\n",
    "    if binaryInput1 < binaryInput2:\n",
    "        if binaryInput1[i] == 0 and binaryInput2[i] == 1:\n",
    "            result[i] = '1'\n",
    "        # 0 - 1 -> result digit set to 1, subtract 1 from above place\n",
    "if binaryInput1 > binaryInput2:\n",
    "    result = np.array2string(result)\n",
    "if binaryInput1 < binaryInput2:\n",
    "    result = '-' + np.array2string(result)\n",
    "    \n",
    "#Multiplication\n",
    "\n",
    "#Division\n"
   ]
  }
 ],
 "metadata": {
  "kernelspec": {
   "display_name": "Python 3",
   "language": "python",
   "name": "python3"
  },
  "language_info": {
   "codemirror_mode": {
    "name": "ipython",
    "version": 3
   },
   "file_extension": ".py",
   "mimetype": "text/x-python",
   "name": "python",
   "nbconvert_exporter": "python",
   "pygments_lexer": "ipython3",
   "version": "3.9.12"
  }
 },
 "nbformat": 4,
 "nbformat_minor": 2
}
